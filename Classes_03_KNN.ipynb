{
  "cells": [
    {
      "cell_type": "markdown",
      "metadata": {
        "id": "view-in-github",
        "colab_type": "text"
      },
      "source": [
        "<a href=\"https://colab.research.google.com/github/abelowska/dataPy/blob/main/Classes_03_KNN.ipynb\" target=\"_parent\"><img src=\"https://colab.research.google.com/assets/colab-badge.svg\" alt=\"Open In Colab\"/></a>"
      ]
    },
    {
      "cell_type": "markdown",
      "metadata": {
        "id": "0UM_-fA16Wx0"
      },
      "source": [
        "# Nonlinear regressors: K-Nearest Neighbours\n",
        "\n",
        "Using an open source [Obesity Levels Based On Eating Habits and Physical Condition dataset](https://archive.ics.uci.edu/dataset/544/estimation+of+obesity+levels+based+on+eating+habits+and+physical+condition) we're going to **model** and then **predict** *weight* based on multiple features with simple linear regression. The dataset is provided by [UC Irvine Machine Learning Repository](https://archive.ics.uci.edu/) which contains multiple datasets useful for studying and experimenting."
      ]
    },
    {
      "cell_type": "code",
      "source": [
        "!pip install ucimlrepo"
      ],
      "metadata": {
        "id": "DykUcJGqpT-j"
      },
      "execution_count": null,
      "outputs": []
    },
    {
      "cell_type": "markdown",
      "metadata": {
        "id": "8Q6dBZxA7WVj"
      },
      "source": [
        "Imports"
      ]
    },
    {
      "cell_type": "code",
      "execution_count": null,
      "metadata": {
        "id": "VEyKd5686Pt8"
      },
      "outputs": [],
      "source": [
        "import matplotlib.pyplot as plt\n",
        "import numpy as np\n",
        "import pandas as pd\n",
        "import seaborn as sns\n",
        "sns.set_theme(style=\"whitegrid\", palette=\"deep\")\n",
        "\n",
        "from sklearn import datasets, linear_model\n",
        "from sklearn.model_selection import train_test_split\n",
        "from sklearn import set_config\n",
        "from sklearn.neighbors import KNeighborsRegressor, KNeighborsClassifier\n",
        "from sklearn.metrics import median_absolute_error, r2_score, classification_report, PredictionErrorDisplay, median_absolute_error, mean_squared_error, mean_absolute_error, accuracy_score\n",
        "from ucimlrepo import fetch_ucirepo\n",
        "\n",
        "plt.rcParams[\"figure.figsize\"] = (10,7)"
      ]
    },
    {
      "cell_type": "code",
      "execution_count": null,
      "metadata": {
        "id": "I4Hsi48QOGpX"
      },
      "outputs": [],
      "source": [
        "# constans\n",
        "test_size=0.2\n",
        "random_state=42"
      ]
    },
    {
      "cell_type": "code",
      "source": [
        "def compute_score(y_true, y_pred):\n",
        "  '''\n",
        "  Helper function for printing scores.\n",
        "\n",
        "  Parameters:\n",
        "  y_true: ndarray of y values from original dataset.\n",
        "  y_pred: ndarray of y values predicted with given model.\n",
        "\n",
        "  Return:\n",
        "  dictionary object that consists of R2 and median absolute error scores.\n",
        "\n",
        "  '''\n",
        "  return {\n",
        "        \"R2\": f\"{r2_score(y_true, y_pred):.3f}\",\n",
        "        \"MedianAE\": f\"{median_absolute_error(y_true, y_pred):.3f}\",\n",
        "}"
      ],
      "metadata": {
        "id": "weAtuf398bDM"
      },
      "execution_count": null,
      "outputs": []
    },
    {
      "cell_type": "code",
      "source": [
        "def compute_score_classification(y_true, y_pred):\n",
        "  '''\n",
        "  Helper function for printing scores.\n",
        "\n",
        "  Parameters:\n",
        "  y_true: ndarray of y values from original dataset.\n",
        "  y_pred: ndarray of y values predicted with given model.\n",
        "\n",
        "  Return:\n",
        "  dictionary object that consists of accuracy and classification report.\n",
        "\n",
        "  '''\n",
        "  return {\n",
        "        \"Accuracy\": f\"{accuracy_score(y_true, y_pred):.3f}\",\n",
        "        \"Classification Report\": classification_report(y_true, y_pred),\n",
        "}"
      ],
      "metadata": {
        "id": "nhESZbtXFKNA"
      },
      "execution_count": null,
      "outputs": []
    },
    {
      "cell_type": "code",
      "source": [
        "def plot_prediction_error(y_test, y_pred, scores):\n",
        "  _, ax = plt.subplots(figsize=(5, 5))\n",
        "\n",
        "  y_test = y_test.to_numpy() if isinstance(y_test, pd.DataFrame) else y_test\n",
        "\n",
        "  display_ = PredictionErrorDisplay.from_predictions(\n",
        "      y_test,\n",
        "      y_pred,\n",
        "      kind=\"actual_vs_predicted\",\n",
        "      ax=ax,\n",
        "      scatter_kwargs={\"alpha\": 0.5}\n",
        "  )\n",
        "\n",
        "  ax.set_title(\"Linear model\")\n",
        "  for name, score in scores.items():\n",
        "      ax.plot([], [], \" \", label=f\"{name}: {score}\")\n",
        "  ax.legend(loc=\"upper left\")\n",
        "  plt.tight_layout()"
      ],
      "metadata": {
        "id": "DAdHKvE7-C_-"
      },
      "execution_count": null,
      "outputs": []
    },
    {
      "cell_type": "markdown",
      "metadata": {
        "id": "C40f350QVvNb"
      },
      "source": [
        "## Load dataset"
      ]
    },
    {
      "cell_type": "code",
      "execution_count": null,
      "metadata": {
        "id": "lEsePeoHLXCj"
      },
      "outputs": [],
      "source": [
        "# fetch dataset\n",
        "obesity_data = fetch_ucirepo(id=544)\n",
        "obesity_data_df = obesity_data.data.features\n",
        "obesity_data_df.head()"
      ]
    },
    {
      "cell_type": "markdown",
      "source": [
        "Inspect the dataset"
      ],
      "metadata": {
        "id": "2_s0HU7J6BRu"
      }
    },
    {
      "cell_type": "code",
      "execution_count": null,
      "metadata": {
        "id": "F_ado_rVXzyc"
      },
      "outputs": [],
      "source": [
        "obesity_data_df.describe()"
      ]
    },
    {
      "cell_type": "markdown",
      "source": [
        "## Regression"
      ],
      "metadata": {
        "id": "2x6HkzGs6Y-p"
      }
    },
    {
      "cell_type": "markdown",
      "source": [
        "Recall the model from the last classes:\n",
        "\n",
        "*Weight ~ Age + FCVC + Height*\n",
        "\n",
        "So far, we modeled this relationship using linear regression. Let's take a look at how the non-linear estimator - KNN will manage to model this relationship.\n",
        "\n",
        "To create a model with KNN estimator, you simply need to create an object of type [`KNeighborsRegressor()`](https://scikit-learn.org/stable/modules/generated/sklearn.neighbors.KNeighborsRegressor.html#sklearn.neighbors.KNeighborsRegressor) instead of the linear regression object. Give yourself a moment to read the documentation of KNN regressor."
      ],
      "metadata": {
        "id": "ZMUlNHlq6yRv"
      }
    },
    {
      "cell_type": "markdown",
      "source": [
        "### Exercise 1\n",
        "Let's compare the performance of KNN to the linear model."
      ],
      "metadata": {
        "id": "h4xKuYQE9UIg"
      }
    },
    {
      "cell_type": "markdown",
      "source": [
        "1. The first model is the simplest linear model we have already done"
      ],
      "metadata": {
        "id": "dx1MD9bx9yHj"
      }
    },
    {
      "cell_type": "code",
      "source": [
        "# Linear regression model - for comparison\n",
        "X = obesity_data_df[[\n",
        "    'Age',\n",
        "    'FCVC',\n",
        "    'Height',\n",
        "]]\n",
        "\n",
        "y = obesity_data_df[['Weight']]\n",
        "\n",
        "X_train, X_test, y_train, y_test = train_test_split(X, y, test_size=test_size, random_state=random_state)\n",
        "\n",
        "# create object of linear regression estimator\n",
        "lm = linear_model.LinearRegression()\n",
        "\n",
        "lm.fit(X_train, y_train)\n",
        "y_pred = lm.predict(X_test)\n",
        "\n",
        "scores = compute_score(y_test, y_pred)\n",
        "scores"
      ],
      "metadata": {
        "id": "ckh7EFzi8x7P"
      },
      "execution_count": null,
      "outputs": []
    },
    {
      "cell_type": "code",
      "source": [
        "plot_prediction_error(y_test, y_pred, scores)"
      ],
      "metadata": {
        "id": "qJoTE_0A9_h4"
      },
      "execution_count": null,
      "outputs": []
    },
    {
      "cell_type": "markdown",
      "source": [
        "2. KNN Regressor model with *default parameters*:"
      ],
      "metadata": {
        "id": "GcvR3Lw2_3sb"
      }
    },
    {
      "cell_type": "code",
      "source": [
        "X = obesity_data_df[[\n",
        "    'Age',\n",
        "    'FCVC',\n",
        "    'Height',\n",
        "]]\n",
        "\n",
        "y = obesity_data_df[['Weight']]\n",
        "\n",
        "X_train, X_test, y_train, y_test = train_test_split(X, y, test_size=test_size, random_state=random_state)\n",
        "\n",
        "# create object of KNN estimator\n",
        "knn = KNeighborsRegressor()\n",
        "\n",
        "knn.fit(X_train, y_train)\n",
        "y_pred = knn.predict(X_test)\n",
        "\n",
        "scores = compute_score(y_test, y_pred)\n",
        "scores"
      ],
      "metadata": {
        "id": "QFgbT-Ow6u98"
      },
      "execution_count": null,
      "outputs": []
    },
    {
      "cell_type": "code",
      "source": [
        "plot_prediction_error(y_test, y_pred, scores)"
      ],
      "metadata": {
        "id": "XwywNO-wSYPd"
      },
      "execution_count": null,
      "outputs": []
    },
    {
      "cell_type": "markdown",
      "source": [
        "There is quite a difference! We didn't have to do anything - with zero knowledge of the data, we got a better result than using linear regression and all our knowledge of the data."
      ],
      "metadata": {
        "id": "ntwwmWcBANvO"
      }
    },
    {
      "cell_type": "markdown",
      "source": [
        "### Exercise 2\n",
        "Now - try to play a little bit with KNN. Maybe you can extract even more from the model by changing its parameters?\n",
        "\n",
        "Create at least 3 different KNN  and change at leat 2 different parameters."
      ],
      "metadata": {
        "id": "NnHid5aJAh0m"
      }
    },
    {
      "cell_type": "code",
      "source": [
        "# your code here"
      ],
      "metadata": {
        "id": "VIDtE7kiAhOT"
      },
      "execution_count": null,
      "outputs": []
    },
    {
      "cell_type": "markdown",
      "source": [
        "### (Exercise 2.1)\n",
        "\n",
        "Too complex models tend to overfit, i.e., they are too closely matched to the training data and begin to perform poorly on the test data.\n",
        "Plot training and testing performance vs number of neighbors to see, whether this model tends to overfit when the number of neighbors increases."
      ],
      "metadata": {
        "id": "7eHNmAaJBF53"
      }
    },
    {
      "cell_type": "code",
      "source": [
        "# Your code here"
      ],
      "metadata": {
        "id": "O179AvtfNaqE"
      },
      "execution_count": null,
      "outputs": []
    },
    {
      "cell_type": "markdown",
      "source": [
        "What do you think this chart means for the problem of predicting orthodoxy based on personality traits? How many people with similar personality profiles is it best to look at to make a good prediction of the level of orthodoxy?"
      ],
      "metadata": {
        "id": "Ntz52-qCRDVs"
      }
    },
    {
      "cell_type": "markdown",
      "source": [
        "## Classification"
      ],
      "metadata": {
        "id": "dcf6CPqORd4E"
      }
    },
    {
      "cell_type": "markdown",
      "source": [
        "Classification is a type of supervised learning task in machine learning and statistics where the goal is to assign labels or categories to input data. Essentially, classification involves predicting the **category or class** of new observations based on previous examples with known labels."
      ],
      "metadata": {
        "id": "tynD0O5-Rjpv"
      }
    },
    {
      "cell_type": "markdown",
      "source": [
        "### Exercise 3\n",
        "\n",
        "Initially, out dataset was dedicated to predict obesity levels based on the habits and physical conditions. Now, we are going to create classification model:\n",
        "\n",
        "*Obesity level ~ Age + FCVC + Height*\n",
        "\n",
        "The obesity level is stored in the `data.targets` attribute of the `obesity_data` variable.\n",
        "\n",
        "Look into the documentation of [`KNeighborsClassifier`](https://scikit-learn.org/stable/modules/generated/sklearn.neighbors.KNeighborsClassifier.html) and write down the code, employing the same patter as in the regression analysis.\n",
        "To check the classification results, use the predefined `compute_score_classification()` method and print separately each metric. How you interpret the results of the model?"
      ],
      "metadata": {
        "id": "0XUt1U-JG_5J"
      }
    },
    {
      "cell_type": "code",
      "source": [
        "X = obesity_data_df[[\n",
        "    'Age',\n",
        "    'FCVC',\n",
        "    'Height',\n",
        "]]\n",
        "\n",
        "y = # your code here\n",
        "\n",
        "X_train, X_test, y_train, y_test = train_test_split(X, y, test_size=test_size, random_state=random_state)\n",
        "\n",
        "# create object of KNN Classifier\n",
        "knn = # your code here\n",
        "\n",
        "knn.fit(X_train, y_train)\n",
        "y_pred = knn.predict(X_test)\n",
        "\n",
        "scores = compute_score_classification(y_test, y_pred)\n",
        "# print scores"
      ],
      "metadata": {
        "id": "Srjm01AFRkQe"
      },
      "execution_count": null,
      "outputs": []
    }
  ],
  "metadata": {
    "colab": {
      "provenance": [],
      "toc_visible": true,
      "include_colab_link": true
    },
    "kernelspec": {
      "display_name": "Python 3",
      "name": "python3"
    },
    "language_info": {
      "name": "python"
    }
  },
  "nbformat": 4,
  "nbformat_minor": 0
}