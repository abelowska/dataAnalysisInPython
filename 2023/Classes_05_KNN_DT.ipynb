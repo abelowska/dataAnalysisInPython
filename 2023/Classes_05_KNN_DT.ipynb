{
  "cells": [
    {
      "cell_type": "markdown",
      "metadata": {
        "id": "view-in-github",
        "colab_type": "text"
      },
      "source": [
        "<a href=\"https://colab.research.google.com/github/abelowska/dataPy/blob/main/Classes_05_KNN_DT.ipynb\" target=\"_parent\"><img src=\"https://colab.research.google.com/assets/colab-badge.svg\" alt=\"Open In Colab\"/></a>"
      ]
    },
    {
      "cell_type": "markdown",
      "metadata": {
        "id": "0UM_-fA16Wx0"
      },
      "source": [
        "# Nonlinear regressors: KNN and Decision Tree"
      ]
    },
    {
      "cell_type": "markdown",
      "metadata": {
        "id": "8Q6dBZxA7WVj"
      },
      "source": [
        "Imports"
      ]
    },
    {
      "cell_type": "code",
      "execution_count": 14,
      "metadata": {
        "id": "VEyKd5686Pt8"
      },
      "outputs": [],
      "source": [
        "import matplotlib.pyplot as plt\n",
        "import numpy as np\n",
        "from sklearn import datasets, linear_model\n",
        "from sklearn.metrics import mean_squared_error, mean_absolute_error, r2_score\n",
        "from sklearn.model_selection import train_test_split\n",
        "import pandas as pd\n",
        "import seaborn as sns\n",
        "sns.set_theme(style=\"whitegrid\", palette=\"deep\")\n",
        "\n",
        "import io\n",
        "from sklearn.preprocessing import StandardScaler\n",
        "from sklearn.pipeline import Pipeline\n",
        "from sklearn import set_config\n",
        "from sklearn.svm import SVR\n",
        "from sklearn.neighbors import KNeighborsRegressor\n",
        "from sklearn.tree import DecisionTreeRegressor\n",
        "from sklearn.metrics import median_absolute_error, r2_score\n",
        "from sklearn.metrics import PredictionErrorDisplay, median_absolute_error\n",
        "from sklearn.preprocessing import power_transform"
      ]
    },
    {
      "cell_type": "code",
      "source": [
        "plt.rcParams[\"figure.figsize\"] = (10,7)"
      ],
      "metadata": {
        "id": "CzCa4HEbJLru"
      },
      "execution_count": 2,
      "outputs": []
    },
    {
      "cell_type": "code",
      "execution_count": 3,
      "metadata": {
        "id": "I4Hsi48QOGpX"
      },
      "outputs": [],
      "source": [
        "# constans\n",
        "test_size=0.2\n",
        "random_state=42"
      ]
    },
    {
      "cell_type": "code",
      "source": [
        "def compute_score(y_true, y_pred):\n",
        "  '''\n",
        "  Helper function for printing scores.\n",
        "\n",
        "  Parameters:\n",
        "  y_true: ndarray of y values from original dataset.\n",
        "  y_pred: ndarray of y values predicted with given model.\n",
        "\n",
        "  Return:\n",
        "  dictionary object that consists of R2 and median absolute error scores.\n",
        "\n",
        "  '''\n",
        "  return {\n",
        "        \"R2\": f\"{r2_score(y_true, y_pred):.3f}\",\n",
        "        \"MedianAE\": f\"{median_absolute_error(y_true, y_pred):.3f}\",\n",
        "}"
      ],
      "metadata": {
        "id": "weAtuf398bDM"
      },
      "execution_count": 7,
      "outputs": []
    },
    {
      "cell_type": "code",
      "source": [
        "def plot_prediction_error(y_test, y_pred, scores):\n",
        "  _, ax = plt.subplots(figsize=(5, 5))\n",
        "\n",
        "  y_test = y_test.to_numpy() if isinstance(y_test, pd.DataFrame) else y_test\n",
        "\n",
        "  display_ = PredictionErrorDisplay.from_predictions(\n",
        "      y_test,\n",
        "      y_pred,\n",
        "      kind=\"actual_vs_predicted\",\n",
        "      ax=ax,\n",
        "      scatter_kwargs={\"alpha\": 0.5}\n",
        "  )\n",
        "\n",
        "  ax.set_title(\"Linear model\")\n",
        "  for name, score in scores.items():\n",
        "      ax.plot([], [], \" \", label=f\"{name}: {score}\")\n",
        "  ax.legend(loc=\"upper left\")\n",
        "  plt.tight_layout()"
      ],
      "metadata": {
        "id": "DAdHKvE7-C_-"
      },
      "execution_count": 12,
      "outputs": []
    },
    {
      "cell_type": "markdown",
      "metadata": {
        "id": "C40f350QVvNb"
      },
      "source": [
        "## Load dataset"
      ]
    },
    {
      "cell_type": "code",
      "execution_count": 4,
      "metadata": {
        "colab": {
          "base_uri": "https://localhost:8080/",
          "height": 244
        },
        "id": "lEsePeoHLXCj",
        "outputId": "49b19f3b-1851-4e08-c0b5-699bb5f8c7e7"
      },
      "outputs": [
        {
          "output_type": "execute_result",
          "data": {
            "text/plain": [
              "   Extraversion  Agreeableness  Conscientiousness    Openness  Neuroticism  \\\n",
              "0     34.082439      46.043690          40.788554  461.110426    43.865868   \n",
              "1     45.914894      45.968433          41.235290  401.384274    28.027017   \n",
              "2     33.008654      42.065841          42.069170  390.193510    41.023889   \n",
              "3     56.112153      45.903571          53.080369  468.518727    20.018578   \n",
              "4     31.972346      49.009174          42.161417  508.686847    43.026028   \n",
              "\n",
              "   External Critique  Orthodoxy  Historical Relativism  Relativism  \\\n",
              "0           2.838143  13.283297               3.744990    6.093860   \n",
              "1           3.824136   9.923179               3.392507    5.230517   \n",
              "2           2.288471  10.675467               3.765416    4.801786   \n",
              "3           5.824989  13.750513               2.826005    2.592473   \n",
              "4           4.038579  15.431653               4.689029    4.916692   \n",
              "\n",
              "   Second Naïveté  \n",
              "0        4.458938  \n",
              "1        3.269949  \n",
              "2        4.683288  \n",
              "3        0.883451  \n",
              "4        4.627536  "
            ],
            "text/html": [
              "\n",
              "  <div id=\"df-c7f172e6-8238-4ba8-9162-68d9518a02e2\" class=\"colab-df-container\">\n",
              "    <div>\n",
              "<style scoped>\n",
              "    .dataframe tbody tr th:only-of-type {\n",
              "        vertical-align: middle;\n",
              "    }\n",
              "\n",
              "    .dataframe tbody tr th {\n",
              "        vertical-align: top;\n",
              "    }\n",
              "\n",
              "    .dataframe thead th {\n",
              "        text-align: right;\n",
              "    }\n",
              "</style>\n",
              "<table border=\"1\" class=\"dataframe\">\n",
              "  <thead>\n",
              "    <tr style=\"text-align: right;\">\n",
              "      <th></th>\n",
              "      <th>Extraversion</th>\n",
              "      <th>Agreeableness</th>\n",
              "      <th>Conscientiousness</th>\n",
              "      <th>Openness</th>\n",
              "      <th>Neuroticism</th>\n",
              "      <th>External Critique</th>\n",
              "      <th>Orthodoxy</th>\n",
              "      <th>Historical Relativism</th>\n",
              "      <th>Relativism</th>\n",
              "      <th>Second Naïveté</th>\n",
              "    </tr>\n",
              "  </thead>\n",
              "  <tbody>\n",
              "    <tr>\n",
              "      <th>0</th>\n",
              "      <td>34.082439</td>\n",
              "      <td>46.043690</td>\n",
              "      <td>40.788554</td>\n",
              "      <td>461.110426</td>\n",
              "      <td>43.865868</td>\n",
              "      <td>2.838143</td>\n",
              "      <td>13.283297</td>\n",
              "      <td>3.744990</td>\n",
              "      <td>6.093860</td>\n",
              "      <td>4.458938</td>\n",
              "    </tr>\n",
              "    <tr>\n",
              "      <th>1</th>\n",
              "      <td>45.914894</td>\n",
              "      <td>45.968433</td>\n",
              "      <td>41.235290</td>\n",
              "      <td>401.384274</td>\n",
              "      <td>28.027017</td>\n",
              "      <td>3.824136</td>\n",
              "      <td>9.923179</td>\n",
              "      <td>3.392507</td>\n",
              "      <td>5.230517</td>\n",
              "      <td>3.269949</td>\n",
              "    </tr>\n",
              "    <tr>\n",
              "      <th>2</th>\n",
              "      <td>33.008654</td>\n",
              "      <td>42.065841</td>\n",
              "      <td>42.069170</td>\n",
              "      <td>390.193510</td>\n",
              "      <td>41.023889</td>\n",
              "      <td>2.288471</td>\n",
              "      <td>10.675467</td>\n",
              "      <td>3.765416</td>\n",
              "      <td>4.801786</td>\n",
              "      <td>4.683288</td>\n",
              "    </tr>\n",
              "    <tr>\n",
              "      <th>3</th>\n",
              "      <td>56.112153</td>\n",
              "      <td>45.903571</td>\n",
              "      <td>53.080369</td>\n",
              "      <td>468.518727</td>\n",
              "      <td>20.018578</td>\n",
              "      <td>5.824989</td>\n",
              "      <td>13.750513</td>\n",
              "      <td>2.826005</td>\n",
              "      <td>2.592473</td>\n",
              "      <td>0.883451</td>\n",
              "    </tr>\n",
              "    <tr>\n",
              "      <th>4</th>\n",
              "      <td>31.972346</td>\n",
              "      <td>49.009174</td>\n",
              "      <td>42.161417</td>\n",
              "      <td>508.686847</td>\n",
              "      <td>43.026028</td>\n",
              "      <td>4.038579</td>\n",
              "      <td>15.431653</td>\n",
              "      <td>4.689029</td>\n",
              "      <td>4.916692</td>\n",
              "      <td>4.627536</td>\n",
              "    </tr>\n",
              "  </tbody>\n",
              "</table>\n",
              "</div>\n",
              "    <div class=\"colab-df-buttons\">\n",
              "\n",
              "  <div class=\"colab-df-container\">\n",
              "    <button class=\"colab-df-convert\" onclick=\"convertToInteractive('df-c7f172e6-8238-4ba8-9162-68d9518a02e2')\"\n",
              "            title=\"Convert this dataframe to an interactive table.\"\n",
              "            style=\"display:none;\">\n",
              "\n",
              "  <svg xmlns=\"http://www.w3.org/2000/svg\" height=\"24px\" viewBox=\"0 -960 960 960\">\n",
              "    <path d=\"M120-120v-720h720v720H120Zm60-500h600v-160H180v160Zm220 220h160v-160H400v160Zm0 220h160v-160H400v160ZM180-400h160v-160H180v160Zm440 0h160v-160H620v160ZM180-180h160v-160H180v160Zm440 0h160v-160H620v160Z\"/>\n",
              "  </svg>\n",
              "    </button>\n",
              "\n",
              "  <style>\n",
              "    .colab-df-container {\n",
              "      display:flex;\n",
              "      gap: 12px;\n",
              "    }\n",
              "\n",
              "    .colab-df-convert {\n",
              "      background-color: #E8F0FE;\n",
              "      border: none;\n",
              "      border-radius: 50%;\n",
              "      cursor: pointer;\n",
              "      display: none;\n",
              "      fill: #1967D2;\n",
              "      height: 32px;\n",
              "      padding: 0 0 0 0;\n",
              "      width: 32px;\n",
              "    }\n",
              "\n",
              "    .colab-df-convert:hover {\n",
              "      background-color: #E2EBFA;\n",
              "      box-shadow: 0px 1px 2px rgba(60, 64, 67, 0.3), 0px 1px 3px 1px rgba(60, 64, 67, 0.15);\n",
              "      fill: #174EA6;\n",
              "    }\n",
              "\n",
              "    .colab-df-buttons div {\n",
              "      margin-bottom: 4px;\n",
              "    }\n",
              "\n",
              "    [theme=dark] .colab-df-convert {\n",
              "      background-color: #3B4455;\n",
              "      fill: #D2E3FC;\n",
              "    }\n",
              "\n",
              "    [theme=dark] .colab-df-convert:hover {\n",
              "      background-color: #434B5C;\n",
              "      box-shadow: 0px 1px 3px 1px rgba(0, 0, 0, 0.15);\n",
              "      filter: drop-shadow(0px 1px 2px rgba(0, 0, 0, 0.3));\n",
              "      fill: #FFFFFF;\n",
              "    }\n",
              "  </style>\n",
              "\n",
              "    <script>\n",
              "      const buttonEl =\n",
              "        document.querySelector('#df-c7f172e6-8238-4ba8-9162-68d9518a02e2 button.colab-df-convert');\n",
              "      buttonEl.style.display =\n",
              "        google.colab.kernel.accessAllowed ? 'block' : 'none';\n",
              "\n",
              "      async function convertToInteractive(key) {\n",
              "        const element = document.querySelector('#df-c7f172e6-8238-4ba8-9162-68d9518a02e2');\n",
              "        const dataTable =\n",
              "          await google.colab.kernel.invokeFunction('convertToInteractive',\n",
              "                                                    [key], {});\n",
              "        if (!dataTable) return;\n",
              "\n",
              "        const docLinkHtml = 'Like what you see? Visit the ' +\n",
              "          '<a target=\"_blank\" href=https://colab.research.google.com/notebooks/data_table.ipynb>data table notebook</a>'\n",
              "          + ' to learn more about interactive tables.';\n",
              "        element.innerHTML = '';\n",
              "        dataTable['output_type'] = 'display_data';\n",
              "        await google.colab.output.renderOutput(dataTable, element);\n",
              "        const docLink = document.createElement('div');\n",
              "        docLink.innerHTML = docLinkHtml;\n",
              "        element.appendChild(docLink);\n",
              "      }\n",
              "    </script>\n",
              "  </div>\n",
              "\n",
              "\n",
              "<div id=\"df-721aedf1-fea1-4e04-b1ba-4d066afa4fd6\">\n",
              "  <button class=\"colab-df-quickchart\" onclick=\"quickchart('df-721aedf1-fea1-4e04-b1ba-4d066afa4fd6')\"\n",
              "            title=\"Suggest charts.\"\n",
              "            style=\"display:none;\">\n",
              "\n",
              "<svg xmlns=\"http://www.w3.org/2000/svg\" height=\"24px\"viewBox=\"0 0 24 24\"\n",
              "     width=\"24px\">\n",
              "    <g>\n",
              "        <path d=\"M19 3H5c-1.1 0-2 .9-2 2v14c0 1.1.9 2 2 2h14c1.1 0 2-.9 2-2V5c0-1.1-.9-2-2-2zM9 17H7v-7h2v7zm4 0h-2V7h2v10zm4 0h-2v-4h2v4z\"/>\n",
              "    </g>\n",
              "</svg>\n",
              "  </button>\n",
              "\n",
              "<style>\n",
              "  .colab-df-quickchart {\n",
              "      --bg-color: #E8F0FE;\n",
              "      --fill-color: #1967D2;\n",
              "      --hover-bg-color: #E2EBFA;\n",
              "      --hover-fill-color: #174EA6;\n",
              "      --disabled-fill-color: #AAA;\n",
              "      --disabled-bg-color: #DDD;\n",
              "  }\n",
              "\n",
              "  [theme=dark] .colab-df-quickchart {\n",
              "      --bg-color: #3B4455;\n",
              "      --fill-color: #D2E3FC;\n",
              "      --hover-bg-color: #434B5C;\n",
              "      --hover-fill-color: #FFFFFF;\n",
              "      --disabled-bg-color: #3B4455;\n",
              "      --disabled-fill-color: #666;\n",
              "  }\n",
              "\n",
              "  .colab-df-quickchart {\n",
              "    background-color: var(--bg-color);\n",
              "    border: none;\n",
              "    border-radius: 50%;\n",
              "    cursor: pointer;\n",
              "    display: none;\n",
              "    fill: var(--fill-color);\n",
              "    height: 32px;\n",
              "    padding: 0;\n",
              "    width: 32px;\n",
              "  }\n",
              "\n",
              "  .colab-df-quickchart:hover {\n",
              "    background-color: var(--hover-bg-color);\n",
              "    box-shadow: 0 1px 2px rgba(60, 64, 67, 0.3), 0 1px 3px 1px rgba(60, 64, 67, 0.15);\n",
              "    fill: var(--button-hover-fill-color);\n",
              "  }\n",
              "\n",
              "  .colab-df-quickchart-complete:disabled,\n",
              "  .colab-df-quickchart-complete:disabled:hover {\n",
              "    background-color: var(--disabled-bg-color);\n",
              "    fill: var(--disabled-fill-color);\n",
              "    box-shadow: none;\n",
              "  }\n",
              "\n",
              "  .colab-df-spinner {\n",
              "    border: 2px solid var(--fill-color);\n",
              "    border-color: transparent;\n",
              "    border-bottom-color: var(--fill-color);\n",
              "    animation:\n",
              "      spin 1s steps(1) infinite;\n",
              "  }\n",
              "\n",
              "  @keyframes spin {\n",
              "    0% {\n",
              "      border-color: transparent;\n",
              "      border-bottom-color: var(--fill-color);\n",
              "      border-left-color: var(--fill-color);\n",
              "    }\n",
              "    20% {\n",
              "      border-color: transparent;\n",
              "      border-left-color: var(--fill-color);\n",
              "      border-top-color: var(--fill-color);\n",
              "    }\n",
              "    30% {\n",
              "      border-color: transparent;\n",
              "      border-left-color: var(--fill-color);\n",
              "      border-top-color: var(--fill-color);\n",
              "      border-right-color: var(--fill-color);\n",
              "    }\n",
              "    40% {\n",
              "      border-color: transparent;\n",
              "      border-right-color: var(--fill-color);\n",
              "      border-top-color: var(--fill-color);\n",
              "    }\n",
              "    60% {\n",
              "      border-color: transparent;\n",
              "      border-right-color: var(--fill-color);\n",
              "    }\n",
              "    80% {\n",
              "      border-color: transparent;\n",
              "      border-right-color: var(--fill-color);\n",
              "      border-bottom-color: var(--fill-color);\n",
              "    }\n",
              "    90% {\n",
              "      border-color: transparent;\n",
              "      border-bottom-color: var(--fill-color);\n",
              "    }\n",
              "  }\n",
              "</style>\n",
              "\n",
              "  <script>\n",
              "    async function quickchart(key) {\n",
              "      const quickchartButtonEl =\n",
              "        document.querySelector('#' + key + ' button');\n",
              "      quickchartButtonEl.disabled = true;  // To prevent multiple clicks.\n",
              "      quickchartButtonEl.classList.add('colab-df-spinner');\n",
              "      try {\n",
              "        const charts = await google.colab.kernel.invokeFunction(\n",
              "            'suggestCharts', [key], {});\n",
              "      } catch (error) {\n",
              "        console.error('Error during call to suggestCharts:', error);\n",
              "      }\n",
              "      quickchartButtonEl.classList.remove('colab-df-spinner');\n",
              "      quickchartButtonEl.classList.add('colab-df-quickchart-complete');\n",
              "    }\n",
              "    (() => {\n",
              "      let quickchartButtonEl =\n",
              "        document.querySelector('#df-721aedf1-fea1-4e04-b1ba-4d066afa4fd6 button');\n",
              "      quickchartButtonEl.style.display =\n",
              "        google.colab.kernel.accessAllowed ? 'block' : 'none';\n",
              "    })();\n",
              "  </script>\n",
              "</div>\n",
              "    </div>\n",
              "  </div>\n"
            ]
          },
          "metadata": {},
          "execution_count": 4
        }
      ],
      "source": [
        "df = pd.read_csv('data_neo-ffi_religion.csv')\n",
        "df.head()"
      ]
    },
    {
      "cell_type": "markdown",
      "source": [
        "Inspect the dataset"
      ],
      "metadata": {
        "id": "2_s0HU7J6BRu"
      }
    },
    {
      "cell_type": "code",
      "execution_count": 6,
      "metadata": {
        "colab": {
          "base_uri": "https://localhost:8080/",
          "height": 338
        },
        "id": "F_ado_rVXzyc",
        "outputId": "7f758a92-ef0a-4ca6-831d-33a87a94512a"
      },
      "outputs": [
        {
          "output_type": "execute_result",
          "data": {
            "text/plain": [
              "       Extraversion  Agreeableness  Conscientiousness    Openness  \\\n",
              "count    342.000000     342.000000         342.000000  342.000000   \n",
              "mean      37.811238      42.318673          41.208357  436.675828   \n",
              "std        8.871624       7.222606           8.104708   63.642560   \n",
              "min       14.040682      21.008399          16.904128  289.257541   \n",
              "25%       32.079634      37.959417          35.084398  388.849925   \n",
              "50%       38.954182      43.089033          41.052187  440.203497   \n",
              "75%       43.946449      47.078293          47.089308  480.501705   \n",
              "max       56.882820      59.121317          59.000430  572.957659   \n",
              "\n",
              "       Neuroticism  External Critique    Orthodoxy  Historical Relativism  \\\n",
              "count   342.000000         342.000000   342.000000             342.000000   \n",
              "mean     36.042290           3.880765    31.980561               4.883313   \n",
              "std      11.014191           1.259730   100.373810               0.778776   \n",
              "min      12.942666           0.876634     2.262785               1.304512   \n",
              "25%      27.908735           3.046971     5.510436               4.430331   \n",
              "50%      35.908038           3.762668    11.153706               4.922857   \n",
              "75%      44.692161           4.684792    28.066035               5.373428   \n",
              "max      60.030339           6.935906  1250.740428               6.877499   \n",
              "\n",
              "       Relativism  Second Naïveté  \n",
              "count  342.000000      342.000000  \n",
              "mean     5.299550        4.223002  \n",
              "std      0.944093        1.392345  \n",
              "min      1.905408        0.801310  \n",
              "25%      4.729321        3.169300  \n",
              "50%      5.437686        4.434408  \n",
              "75%      5.981834        5.213640  \n",
              "max      7.139185        7.151545  "
            ],
            "text/html": [
              "\n",
              "  <div id=\"df-45f00648-082b-45c9-8dd6-6ce5f9bc2f16\" class=\"colab-df-container\">\n",
              "    <div>\n",
              "<style scoped>\n",
              "    .dataframe tbody tr th:only-of-type {\n",
              "        vertical-align: middle;\n",
              "    }\n",
              "\n",
              "    .dataframe tbody tr th {\n",
              "        vertical-align: top;\n",
              "    }\n",
              "\n",
              "    .dataframe thead th {\n",
              "        text-align: right;\n",
              "    }\n",
              "</style>\n",
              "<table border=\"1\" class=\"dataframe\">\n",
              "  <thead>\n",
              "    <tr style=\"text-align: right;\">\n",
              "      <th></th>\n",
              "      <th>Extraversion</th>\n",
              "      <th>Agreeableness</th>\n",
              "      <th>Conscientiousness</th>\n",
              "      <th>Openness</th>\n",
              "      <th>Neuroticism</th>\n",
              "      <th>External Critique</th>\n",
              "      <th>Orthodoxy</th>\n",
              "      <th>Historical Relativism</th>\n",
              "      <th>Relativism</th>\n",
              "      <th>Second Naïveté</th>\n",
              "    </tr>\n",
              "  </thead>\n",
              "  <tbody>\n",
              "    <tr>\n",
              "      <th>count</th>\n",
              "      <td>342.000000</td>\n",
              "      <td>342.000000</td>\n",
              "      <td>342.000000</td>\n",
              "      <td>342.000000</td>\n",
              "      <td>342.000000</td>\n",
              "      <td>342.000000</td>\n",
              "      <td>342.000000</td>\n",
              "      <td>342.000000</td>\n",
              "      <td>342.000000</td>\n",
              "      <td>342.000000</td>\n",
              "    </tr>\n",
              "    <tr>\n",
              "      <th>mean</th>\n",
              "      <td>37.811238</td>\n",
              "      <td>42.318673</td>\n",
              "      <td>41.208357</td>\n",
              "      <td>436.675828</td>\n",
              "      <td>36.042290</td>\n",
              "      <td>3.880765</td>\n",
              "      <td>31.980561</td>\n",
              "      <td>4.883313</td>\n",
              "      <td>5.299550</td>\n",
              "      <td>4.223002</td>\n",
              "    </tr>\n",
              "    <tr>\n",
              "      <th>std</th>\n",
              "      <td>8.871624</td>\n",
              "      <td>7.222606</td>\n",
              "      <td>8.104708</td>\n",
              "      <td>63.642560</td>\n",
              "      <td>11.014191</td>\n",
              "      <td>1.259730</td>\n",
              "      <td>100.373810</td>\n",
              "      <td>0.778776</td>\n",
              "      <td>0.944093</td>\n",
              "      <td>1.392345</td>\n",
              "    </tr>\n",
              "    <tr>\n",
              "      <th>min</th>\n",
              "      <td>14.040682</td>\n",
              "      <td>21.008399</td>\n",
              "      <td>16.904128</td>\n",
              "      <td>289.257541</td>\n",
              "      <td>12.942666</td>\n",
              "      <td>0.876634</td>\n",
              "      <td>2.262785</td>\n",
              "      <td>1.304512</td>\n",
              "      <td>1.905408</td>\n",
              "      <td>0.801310</td>\n",
              "    </tr>\n",
              "    <tr>\n",
              "      <th>25%</th>\n",
              "      <td>32.079634</td>\n",
              "      <td>37.959417</td>\n",
              "      <td>35.084398</td>\n",
              "      <td>388.849925</td>\n",
              "      <td>27.908735</td>\n",
              "      <td>3.046971</td>\n",
              "      <td>5.510436</td>\n",
              "      <td>4.430331</td>\n",
              "      <td>4.729321</td>\n",
              "      <td>3.169300</td>\n",
              "    </tr>\n",
              "    <tr>\n",
              "      <th>50%</th>\n",
              "      <td>38.954182</td>\n",
              "      <td>43.089033</td>\n",
              "      <td>41.052187</td>\n",
              "      <td>440.203497</td>\n",
              "      <td>35.908038</td>\n",
              "      <td>3.762668</td>\n",
              "      <td>11.153706</td>\n",
              "      <td>4.922857</td>\n",
              "      <td>5.437686</td>\n",
              "      <td>4.434408</td>\n",
              "    </tr>\n",
              "    <tr>\n",
              "      <th>75%</th>\n",
              "      <td>43.946449</td>\n",
              "      <td>47.078293</td>\n",
              "      <td>47.089308</td>\n",
              "      <td>480.501705</td>\n",
              "      <td>44.692161</td>\n",
              "      <td>4.684792</td>\n",
              "      <td>28.066035</td>\n",
              "      <td>5.373428</td>\n",
              "      <td>5.981834</td>\n",
              "      <td>5.213640</td>\n",
              "    </tr>\n",
              "    <tr>\n",
              "      <th>max</th>\n",
              "      <td>56.882820</td>\n",
              "      <td>59.121317</td>\n",
              "      <td>59.000430</td>\n",
              "      <td>572.957659</td>\n",
              "      <td>60.030339</td>\n",
              "      <td>6.935906</td>\n",
              "      <td>1250.740428</td>\n",
              "      <td>6.877499</td>\n",
              "      <td>7.139185</td>\n",
              "      <td>7.151545</td>\n",
              "    </tr>\n",
              "  </tbody>\n",
              "</table>\n",
              "</div>\n",
              "    <div class=\"colab-df-buttons\">\n",
              "\n",
              "  <div class=\"colab-df-container\">\n",
              "    <button class=\"colab-df-convert\" onclick=\"convertToInteractive('df-45f00648-082b-45c9-8dd6-6ce5f9bc2f16')\"\n",
              "            title=\"Convert this dataframe to an interactive table.\"\n",
              "            style=\"display:none;\">\n",
              "\n",
              "  <svg xmlns=\"http://www.w3.org/2000/svg\" height=\"24px\" viewBox=\"0 -960 960 960\">\n",
              "    <path d=\"M120-120v-720h720v720H120Zm60-500h600v-160H180v160Zm220 220h160v-160H400v160Zm0 220h160v-160H400v160ZM180-400h160v-160H180v160Zm440 0h160v-160H620v160ZM180-180h160v-160H180v160Zm440 0h160v-160H620v160Z\"/>\n",
              "  </svg>\n",
              "    </button>\n",
              "\n",
              "  <style>\n",
              "    .colab-df-container {\n",
              "      display:flex;\n",
              "      gap: 12px;\n",
              "    }\n",
              "\n",
              "    .colab-df-convert {\n",
              "      background-color: #E8F0FE;\n",
              "      border: none;\n",
              "      border-radius: 50%;\n",
              "      cursor: pointer;\n",
              "      display: none;\n",
              "      fill: #1967D2;\n",
              "      height: 32px;\n",
              "      padding: 0 0 0 0;\n",
              "      width: 32px;\n",
              "    }\n",
              "\n",
              "    .colab-df-convert:hover {\n",
              "      background-color: #E2EBFA;\n",
              "      box-shadow: 0px 1px 2px rgba(60, 64, 67, 0.3), 0px 1px 3px 1px rgba(60, 64, 67, 0.15);\n",
              "      fill: #174EA6;\n",
              "    }\n",
              "\n",
              "    .colab-df-buttons div {\n",
              "      margin-bottom: 4px;\n",
              "    }\n",
              "\n",
              "    [theme=dark] .colab-df-convert {\n",
              "      background-color: #3B4455;\n",
              "      fill: #D2E3FC;\n",
              "    }\n",
              "\n",
              "    [theme=dark] .colab-df-convert:hover {\n",
              "      background-color: #434B5C;\n",
              "      box-shadow: 0px 1px 3px 1px rgba(0, 0, 0, 0.15);\n",
              "      filter: drop-shadow(0px 1px 2px rgba(0, 0, 0, 0.3));\n",
              "      fill: #FFFFFF;\n",
              "    }\n",
              "  </style>\n",
              "\n",
              "    <script>\n",
              "      const buttonEl =\n",
              "        document.querySelector('#df-45f00648-082b-45c9-8dd6-6ce5f9bc2f16 button.colab-df-convert');\n",
              "      buttonEl.style.display =\n",
              "        google.colab.kernel.accessAllowed ? 'block' : 'none';\n",
              "\n",
              "      async function convertToInteractive(key) {\n",
              "        const element = document.querySelector('#df-45f00648-082b-45c9-8dd6-6ce5f9bc2f16');\n",
              "        const dataTable =\n",
              "          await google.colab.kernel.invokeFunction('convertToInteractive',\n",
              "                                                    [key], {});\n",
              "        if (!dataTable) return;\n",
              "\n",
              "        const docLinkHtml = 'Like what you see? Visit the ' +\n",
              "          '<a target=\"_blank\" href=https://colab.research.google.com/notebooks/data_table.ipynb>data table notebook</a>'\n",
              "          + ' to learn more about interactive tables.';\n",
              "        element.innerHTML = '';\n",
              "        dataTable['output_type'] = 'display_data';\n",
              "        await google.colab.output.renderOutput(dataTable, element);\n",
              "        const docLink = document.createElement('div');\n",
              "        docLink.innerHTML = docLinkHtml;\n",
              "        element.appendChild(docLink);\n",
              "      }\n",
              "    </script>\n",
              "  </div>\n",
              "\n",
              "\n",
              "<div id=\"df-88414ce7-5977-4ed3-ae80-deca041134a8\">\n",
              "  <button class=\"colab-df-quickchart\" onclick=\"quickchart('df-88414ce7-5977-4ed3-ae80-deca041134a8')\"\n",
              "            title=\"Suggest charts.\"\n",
              "            style=\"display:none;\">\n",
              "\n",
              "<svg xmlns=\"http://www.w3.org/2000/svg\" height=\"24px\"viewBox=\"0 0 24 24\"\n",
              "     width=\"24px\">\n",
              "    <g>\n",
              "        <path d=\"M19 3H5c-1.1 0-2 .9-2 2v14c0 1.1.9 2 2 2h14c1.1 0 2-.9 2-2V5c0-1.1-.9-2-2-2zM9 17H7v-7h2v7zm4 0h-2V7h2v10zm4 0h-2v-4h2v4z\"/>\n",
              "    </g>\n",
              "</svg>\n",
              "  </button>\n",
              "\n",
              "<style>\n",
              "  .colab-df-quickchart {\n",
              "      --bg-color: #E8F0FE;\n",
              "      --fill-color: #1967D2;\n",
              "      --hover-bg-color: #E2EBFA;\n",
              "      --hover-fill-color: #174EA6;\n",
              "      --disabled-fill-color: #AAA;\n",
              "      --disabled-bg-color: #DDD;\n",
              "  }\n",
              "\n",
              "  [theme=dark] .colab-df-quickchart {\n",
              "      --bg-color: #3B4455;\n",
              "      --fill-color: #D2E3FC;\n",
              "      --hover-bg-color: #434B5C;\n",
              "      --hover-fill-color: #FFFFFF;\n",
              "      --disabled-bg-color: #3B4455;\n",
              "      --disabled-fill-color: #666;\n",
              "  }\n",
              "\n",
              "  .colab-df-quickchart {\n",
              "    background-color: var(--bg-color);\n",
              "    border: none;\n",
              "    border-radius: 50%;\n",
              "    cursor: pointer;\n",
              "    display: none;\n",
              "    fill: var(--fill-color);\n",
              "    height: 32px;\n",
              "    padding: 0;\n",
              "    width: 32px;\n",
              "  }\n",
              "\n",
              "  .colab-df-quickchart:hover {\n",
              "    background-color: var(--hover-bg-color);\n",
              "    box-shadow: 0 1px 2px rgba(60, 64, 67, 0.3), 0 1px 3px 1px rgba(60, 64, 67, 0.15);\n",
              "    fill: var(--button-hover-fill-color);\n",
              "  }\n",
              "\n",
              "  .colab-df-quickchart-complete:disabled,\n",
              "  .colab-df-quickchart-complete:disabled:hover {\n",
              "    background-color: var(--disabled-bg-color);\n",
              "    fill: var(--disabled-fill-color);\n",
              "    box-shadow: none;\n",
              "  }\n",
              "\n",
              "  .colab-df-spinner {\n",
              "    border: 2px solid var(--fill-color);\n",
              "    border-color: transparent;\n",
              "    border-bottom-color: var(--fill-color);\n",
              "    animation:\n",
              "      spin 1s steps(1) infinite;\n",
              "  }\n",
              "\n",
              "  @keyframes spin {\n",
              "    0% {\n",
              "      border-color: transparent;\n",
              "      border-bottom-color: var(--fill-color);\n",
              "      border-left-color: var(--fill-color);\n",
              "    }\n",
              "    20% {\n",
              "      border-color: transparent;\n",
              "      border-left-color: var(--fill-color);\n",
              "      border-top-color: var(--fill-color);\n",
              "    }\n",
              "    30% {\n",
              "      border-color: transparent;\n",
              "      border-left-color: var(--fill-color);\n",
              "      border-top-color: var(--fill-color);\n",
              "      border-right-color: var(--fill-color);\n",
              "    }\n",
              "    40% {\n",
              "      border-color: transparent;\n",
              "      border-right-color: var(--fill-color);\n",
              "      border-top-color: var(--fill-color);\n",
              "    }\n",
              "    60% {\n",
              "      border-color: transparent;\n",
              "      border-right-color: var(--fill-color);\n",
              "    }\n",
              "    80% {\n",
              "      border-color: transparent;\n",
              "      border-right-color: var(--fill-color);\n",
              "      border-bottom-color: var(--fill-color);\n",
              "    }\n",
              "    90% {\n",
              "      border-color: transparent;\n",
              "      border-bottom-color: var(--fill-color);\n",
              "    }\n",
              "  }\n",
              "</style>\n",
              "\n",
              "  <script>\n",
              "    async function quickchart(key) {\n",
              "      const quickchartButtonEl =\n",
              "        document.querySelector('#' + key + ' button');\n",
              "      quickchartButtonEl.disabled = true;  // To prevent multiple clicks.\n",
              "      quickchartButtonEl.classList.add('colab-df-spinner');\n",
              "      try {\n",
              "        const charts = await google.colab.kernel.invokeFunction(\n",
              "            'suggestCharts', [key], {});\n",
              "      } catch (error) {\n",
              "        console.error('Error during call to suggestCharts:', error);\n",
              "      }\n",
              "      quickchartButtonEl.classList.remove('colab-df-spinner');\n",
              "      quickchartButtonEl.classList.add('colab-df-quickchart-complete');\n",
              "    }\n",
              "    (() => {\n",
              "      let quickchartButtonEl =\n",
              "        document.querySelector('#df-88414ce7-5977-4ed3-ae80-deca041134a8 button');\n",
              "      quickchartButtonEl.style.display =\n",
              "        google.colab.kernel.accessAllowed ? 'block' : 'none';\n",
              "    })();\n",
              "  </script>\n",
              "</div>\n",
              "    </div>\n",
              "  </div>\n"
            ]
          },
          "metadata": {},
          "execution_count": 6
        }
      ],
      "source": [
        "df.describe()"
      ]
    },
    {
      "cell_type": "markdown",
      "source": [
        "## K-Nearest Neighbours"
      ],
      "metadata": {
        "id": "2x6HkzGs6Y-p"
      }
    },
    {
      "cell_type": "markdown",
      "source": [
        "Recall the model from the last classes:\n",
        "\n",
        "*Orthodoxy ~ Extraversion + Agreeableness + Openness + Neuroticism + Conscientiousness*\n",
        "\n",
        "So far, we modeled this relationship using linear regression. Let's take a look at how the non-linear estimator - KNN will manage to model this relationship.\n",
        "\n",
        "To create a model with KNN estimator, you simply need to create an object of type [`KNeighborsRegressor()`](https://scikit-learn.org/stable/modules/generated/sklearn.neighbors.KNeighborsRegressor.html#sklearn.neighbors.KNeighborsRegressor) instead of the linear regression object. Give yourself a moment to read the documentation of KNN regressor."
      ],
      "metadata": {
        "id": "ZMUlNHlq6yRv"
      }
    },
    {
      "cell_type": "markdown",
      "source": [
        "### Exercise 1\n",
        "Let's compare the performance of KNN to the linear model."
      ],
      "metadata": {
        "id": "h4xKuYQE9UIg"
      }
    },
    {
      "cell_type": "markdown",
      "source": [
        "1. The first model is the simplest linear model we have already done - without transformation of our exponential y"
      ],
      "metadata": {
        "id": "dx1MD9bx9yHj"
      }
    },
    {
      "cell_type": "code",
      "source": [
        "# Linear regression model - for comparison\n",
        "X = df[[\n",
        "    'Extraversion',\n",
        "    'Agreeableness',\n",
        "    'Conscientiousness',\n",
        "    'Openness',\n",
        "    'Neuroticism']]\n",
        "\n",
        "y = df[['Orthodoxy']]\n",
        "\n",
        "X_train, X_test, y_train, y_test = train_test_split(X, y, test_size=test_size, random_state=random_state)\n",
        "\n",
        "# create object of linear regression estimator\n",
        "lm = linear_model.LinearRegression()\n",
        "\n",
        "lm.fit(X_train, y_train)\n",
        "y_pred = lm.predict(X_test)\n",
        "\n",
        "scores = compute_score(y_test, y_pred)\n",
        "scores"
      ],
      "metadata": {
        "colab": {
          "base_uri": "https://localhost:8080/"
        },
        "id": "ckh7EFzi8x7P",
        "outputId": "dd65e3df-348b-4689-cb14-9c7eccad9d69"
      },
      "execution_count": 10,
      "outputs": [
        {
          "output_type": "execute_result",
          "data": {
            "text/plain": [
              "{'R2': '0.058', 'MedianAE': '21.663'}"
            ]
          },
          "metadata": {},
          "execution_count": 10
        }
      ]
    },
    {
      "cell_type": "code",
      "source": [
        "plot_prediction_error(y_test, y_pred, scores)"
      ],
      "metadata": {
        "colab": {
          "base_uri": "https://localhost:8080/",
          "height": 501
        },
        "id": "qJoTE_0A9_h4",
        "outputId": "7548f1fd-41fc-4ff2-a051-7c9c631aa8e1"
      },
      "execution_count": 13,
      "outputs": [
        {
          "output_type": "display_data",
          "data": {
            "text/plain": [
              "<Figure size 500x500 with 1 Axes>"
            ],
            "image/png": "[encoded data removed]"
          },
          "metadata": {}
        }
      ]
    },
    {
      "cell_type": "markdown",
      "source": [
        "2. Linear model with y transformation (so that y has a more Gaussian-like distribution) - the best model we have already created:"
      ],
      "metadata": {
        "id": "v7MLEMzs91v3"
      }
    },
    {
      "cell_type": "code",
      "source": [
        "# Linear regression model - for comparison\n",
        "X = df[[\n",
        "    'Extraversion',\n",
        "    'Agreeableness',\n",
        "    'Conscientiousness',\n",
        "    'Openness',\n",
        "    'Neuroticism']]\n",
        "\n",
        "y = df[['Orthodoxy']]\n",
        "\n",
        "y_transformed = power_transform(y, method='box-cox')\n",
        "\n",
        "X_train, X_test, y_train, y_test = train_test_split(X, y_transformed, test_size=test_size, random_state=random_state)\n",
        "\n",
        "# create object of linear regression estimator\n",
        "lm = linear_model.LinearRegression()\n",
        "\n",
        "lm.fit(X_train, y_train)\n",
        "y_pred = lm.predict(X_test)\n",
        "\n",
        "scores = compute_score(y_test, y_pred)\n",
        "scores"
      ],
      "metadata": {
        "colab": {
          "base_uri": "https://localhost:8080/"
        },
        "id": "rkYiuQ_590eL",
        "outputId": "53a7f2b1-3871-4393-f541-943f712d8090"
      },
      "execution_count": 15,
      "outputs": [
        {
          "output_type": "execute_result",
          "data": {
            "text/plain": [
              "{'R2': '0.268', 'MedianAE': '0.751'}"
            ]
          },
          "metadata": {},
          "execution_count": 15
        }
      ]
    },
    {
      "cell_type": "code",
      "source": [
        "plot_prediction_error(y_test, y_pred, scores)"
      ],
      "metadata": {
        "id": "IebZonxlSWUb"
      },
      "execution_count": null,
      "outputs": []
    },
    {
      "cell_type": "markdown",
      "source": [
        "3. KNN Regressor model with default parameters (and no transformations at all):"
      ],
      "metadata": {
        "id": "GcvR3Lw2_3sb"
      }
    },
    {
      "cell_type": "code",
      "source": [
        "X = df[[\n",
        "    'Extraversion',\n",
        "    'Agreeableness',\n",
        "    'Conscientiousness',\n",
        "    'Openness',\n",
        "    'Neuroticism']]\n",
        "\n",
        "y = df[['Orthodoxy']]\n",
        "\n",
        "X_train, X_test, y_train, y_test = train_test_split(X, y, test_size=test_size, random_state=random_state)\n",
        "\n",
        "# create object of KNN estimator\n",
        "knn = KNeighborsRegressor(n_neighbors=2)\n",
        "\n",
        "knn.fit(X_train, y_train)\n",
        "y_pred = knn.predict(X_test)\n",
        "\n",
        "scores = compute_score(y_test, y_pred)\n",
        "scores"
      ],
      "metadata": {
        "colab": {
          "base_uri": "https://localhost:8080/"
        },
        "id": "QFgbT-Ow6u98",
        "outputId": "1fc69415-a805-4d71-fd82-074e4b80c470"
      },
      "execution_count": 121,
      "outputs": [
        {
          "output_type": "execute_result",
          "data": {
            "text/plain": [
              "{'R2': '0.722', 'MedianAE': '6.629'}"
            ]
          },
          "metadata": {},
          "execution_count": 121
        }
      ]
    },
    {
      "cell_type": "code",
      "source": [
        "plot_prediction_error(y_test, y_pred, scores)"
      ],
      "metadata": {
        "colab": {
          "base_uri": "https://localhost:8080/",
          "height": 501
        },
        "id": "XwywNO-wSYPd",
        "outputId": "35f2e478-a77a-405b-f68b-6429bf64c267"
      },
      "execution_count": 122,
      "outputs": [
        {
          "output_type": "display_data",
          "data": {
            "text/plain": [
              "<Figure size 500x500 with 1 Axes>"
            ],
            "image/png": "[encoded data removed]"
          },
          "metadata": {}
        }
      ]
    },
    {
      "cell_type": "markdown",
      "source": [
        "There is a huge difference! We didn't have to do anything - with zero knowledge of the data, we got a better result than using linear regression and all our knowledge of the data."
      ],
      "metadata": {
        "id": "ntwwmWcBANvO"
      }
    },
    {
      "cell_type": "markdown",
      "source": [
        "### Exercise 2\n",
        "Now - try to play a little bit with KNN. Maybe you can extract even more from the model by changing its parameters?\n",
        "\n",
        "Create at least 3 different KNN  and change at leat 2 different parameters."
      ],
      "metadata": {
        "id": "NnHid5aJAh0m"
      }
    },
    {
      "cell_type": "code",
      "source": [
        "# your code here"
      ],
      "metadata": {
        "id": "VIDtE7kiAhOT"
      },
      "execution_count": null,
      "outputs": []
    },
    {
      "cell_type": "markdown",
      "source": [
        "### (Exercise 2.1)\n",
        "\n",
        "Too complex models tend to overfit, i.e., they are too closely matched to the training data and begin to perform poorly on the test data.\n",
        "Plot training and testing performance vs number of neighbors to see, whether this model tends to overfit when the number of neighbors increases."
      ],
      "metadata": {
        "id": "7eHNmAaJBF53"
      }
    },
    {
      "cell_type": "code",
      "source": [
        "# Your code here"
      ],
      "metadata": {
        "id": "O179AvtfNaqE"
      },
      "execution_count": 78,
      "outputs": []
    },
    {
      "cell_type": "markdown",
      "source": [
        "What do you think this chart means for the problem of predicting orthodoxy based on personality traits? How many people with similar personality profiles is it best to look at to make a good prediction of the level of orthodoxy?"
      ],
      "metadata": {
        "id": "Ntz52-qCRDVs"
      }
    },
    {
      "cell_type": "markdown",
      "source": [
        "## Decision Trees"
      ],
      "metadata": {
        "id": "dcf6CPqORd4E"
      }
    },
    {
      "cell_type": "markdown",
      "source": [
        "Now, we are going to create our model\n",
        "\n",
        "*Orthodoxy ~ Extraversion + Agreeableness + Openness + Neuroticism + Conscientiousness*\n",
        "\n",
        "using decision trees and compare this model to linear regression and KNN. Lets's take a look on the simples DT model."
      ],
      "metadata": {
        "id": "tynD0O5-Rjpv"
      }
    },
    {
      "cell_type": "code",
      "source": [
        "X = df[[\n",
        "    'Extraversion',\n",
        "    'Agreeableness',\n",
        "    'Conscientiousness',\n",
        "    'Openness',\n",
        "    'Neuroticism']]\n",
        "\n",
        "y = df[['Orthodoxy']]\n",
        "\n",
        "X_train, X_test, y_train, y_test = train_test_split(X, y, test_size=test_size, random_state=random_state)\n",
        "\n",
        "# create object of DT estimator\n",
        "dt = # your code\n",
        "\n",
        "dt.fit(X_train, y_train)\n",
        "y_pred = dt.predict(X_test)\n",
        "\n",
        "scores = compute_score(y_test, y_pred)\n",
        "scores"
      ],
      "metadata": {
        "colab": {
          "base_uri": "https://localhost:8080/"
        },
        "id": "Srjm01AFRkQe",
        "outputId": "6a768119-549c-439d-bebc-8dcec858fe70"
      },
      "execution_count": 87,
      "outputs": [
        {
          "output_type": "execute_result",
          "data": {
            "text/plain": [
              "{'R2': '-10.755', 'MedianAE': '2.844'}"
            ]
          },
          "metadata": {},
          "execution_count": 87
        }
      ]
    },
    {
      "cell_type": "code",
      "source": [
        "plot_prediction_error(y_test, y_pred, scores)"
      ],
      "metadata": {
        "colab": {
          "base_uri": "https://localhost:8080/",
          "height": 501
        },
        "id": "mpXCBVAJSa0s",
        "outputId": "c5c992e7-84f2-48f8-b230-536a95e0f519"
      },
      "execution_count": 88,
      "outputs": [
        {
          "output_type": "display_data",
          "data": {
            "text/plain": [
              "<Figure size 500x500 with 1 Axes>"
            ],
            "image/png": "[encoded data removed]"
          },
          "metadata": {}
        }
      ]
    },
    {
      "cell_type": "markdown",
      "source": [
        "Ups! Something clearly is wrong. Does this graph remind you of anything?"
      ],
      "metadata": {
        "id": "lzEpx_InSfhc"
      }
    },
    {
      "cell_type": "markdown",
      "source": [
        "### Exercise 3\n",
        "Create the model with DT estimator, but before fitting, transform y to have more Gaussian-like distribution.\n",
        "\n",
        "With KNNs exponential `y` wasn't a problem because the only thing KNN looked at was y value of nearest neighbors. DTs try to find the best-dividing lines for the data by assessing the quality of these divisions using the cost functions (and these functions base on the data variance). We need to 'fix' our variances - make them more comparable so that we can realize the full potential of decision trees.  \n",
        "\n",
        "Create the model with a decision tree estimator, but transform `y` before the train-test split."
      ],
      "metadata": {
        "id": "mw5MirNpVCqu"
      }
    },
    {
      "cell_type": "code",
      "source": [
        "# Your code here"
      ],
      "metadata": {
        "colab": {
          "base_uri": "https://localhost:8080/"
        },
        "id": "hSY2pWnvRkUO",
        "outputId": "fd5ab33a-c5bf-4c70-a453-84af74f9b559"
      },
      "execution_count": 96,
      "outputs": [
        {
          "output_type": "execute_result",
          "data": {
            "text/plain": [
              "{'R2': '0.387', 'MedianAE': '0.189'}"
            ]
          },
          "metadata": {},
          "execution_count": 96
        }
      ]
    },
    {
      "cell_type": "code",
      "source": [
        "plot_prediction_error(y_test, y_pred, scores)"
      ],
      "metadata": {
        "colab": {
          "base_uri": "https://localhost:8080/",
          "height": 501
        },
        "id": "bcEQrQYkRkep",
        "outputId": "7cd66ef3-6933-45fc-c975-1b976867e64c"
      },
      "execution_count": 97,
      "outputs": [
        {
          "output_type": "display_data",
          "data": {
            "text/plain": [
              "<Figure size 500x500 with 1 Axes>"
            ],
            "image/png": "[encoded data removed]"
          },
          "metadata": {}
        }
      ]
    },
    {
      "cell_type": "markdown",
      "source": [
        "### (Exercise 3.1)\n",
        "\n",
        "Decision trees have a lot of adjustable parameters. Especially interesting are: `criterion`, `max_depth`, `min_samples_split`, and `min_samples_leaf`. Read about them in the documentation (and in the internet) and see how the performance of the model changes with the change of various parameters. You may want to create a graph of performance from model complexity to see if decision trees overfit easily."
      ],
      "metadata": {
        "id": "83woShjNjfYH"
      }
    },
    {
      "cell_type": "code",
      "source": [
        "# Your code here"
      ],
      "metadata": {
        "id": "53gvUaAujeel"
      },
      "execution_count": 127,
      "outputs": []
    },
    {
      "cell_type": "markdown",
      "source": [
        "### Exercise 4"
      ],
      "metadata": {
        "id": "U3Dhh-Q0ZBQM"
      }
    },
    {
      "cell_type": "markdown",
      "source": [
        "And now - the most interesting thing! We can analyze the structure of our fitted decision tree. We have to save the tree into `.dot` file and then we can use the [WebGraphviz](http://www.webgraphviz.com) tool to visualize the tree. You should copy the content of the `.dot` file (saved to the *Files* directory in Colab) to the input area on the [WebGraphviz](http://www.webgraphviz.com)."
      ],
      "metadata": {
        "id": "RCyn5VH5XrPf"
      }
    },
    {
      "cell_type": "code",
      "source": [
        "from sklearn.tree import export_graphviz\n",
        "# export the decision tree model to a tree_structure.dot file\n",
        "# paste the contents of the file to webgraphviz.com\n",
        "export_graphviz(\n",
        "    dt,\n",
        "    out_file ='tree_structure.dot',\n",
        "    feature_names = X.columns.to_numpy()\n",
        ")"
      ],
      "metadata": {
        "id": "bVm0rSYURkm_"
      },
      "execution_count": 98,
      "outputs": []
    },
    {
      "cell_type": "markdown",
      "source": [
        "Do the conclusions drawn from the linear regression coincide with DT?"
      ],
      "metadata": {
        "id": "33DNE_HfZEgt"
      }
    },
    {
      "cell_type": "markdown",
      "source": [
        "## Homework: Comaprison of linear regression, KNN and Decision Tree\n",
        "\n",
        "Check the effect of scaling and data transformation on Gaussian distributions on the performance of all three models.\n",
        "* Models can be compared e.g., in three places: raw dataset, after y-transformation and after X-scaling;\n",
        "* Create a visual comparison for all three estimators;\n",
        "* Compare the models' estimated parameters (or structures) to see if the interpretation of the model has changed. For KNN, you can use [`kneighbors()`](https://scikit-learn.org/stable/modules/generated/sklearn.neighbors.KNeighborsRegressor.html#sklearn.neighbors.KNeighborsRegressor.kneighbors) method that returns neighbors of a given (of your choice) sample (of course these neighbors are from the training dataset). [`kneighbors()`](https://scikit-learn.org/stable/modules/generated/sklearn.neighbors.KNeighborsRegressor.html#sklearn.neighbors.KNeighborsRegressor.kneighbors) returns the distance of input point from each of n neighbors and indexes of those neighbors. You can always select these samples from the `X_train` dataset to see if your point and its neighbors are indeed closely related."
      ],
      "metadata": {
        "id": "YskIR6RAadkf"
      }
    }
  ],
  "metadata": {
    "colab": {
      "provenance": [],
      "toc_visible": true,
      "include_colab_link": true
    },
    "kernelspec": {
      "display_name": "Python 3",
      "name": "python3"
    },
    "language_info": {
      "name": "python"
    }
  },
  "nbformat": 4,
  "nbformat_minor": 0
}